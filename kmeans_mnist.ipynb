{
 "cells": [
  {
   "cell_type": "code",
   "execution_count": 1,
   "metadata": {
    "metadata": {}
   },
   "outputs": [
    {
     "name": "stderr",
     "output_type": "stream",
     "text": [
      "2024-07-22 02:39:26.300096: E external/local_xla/xla/stream_executor/cuda/cuda_fft.cc:485] Unable to register cuFFT factory: Attempting to register factory for plugin cuFFT when one has already been registered\n",
      "2024-07-22 02:39:26.318184: E external/local_xla/xla/stream_executor/cuda/cuda_dnn.cc:8454] Unable to register cuDNN factory: Attempting to register factory for plugin cuDNN when one has already been registered\n",
      "2024-07-22 02:39:26.323712: E external/local_xla/xla/stream_executor/cuda/cuda_blas.cc:1452] Unable to register cuBLAS factory: Attempting to register factory for plugin cuBLAS when one has already been registered\n",
      "2024-07-22 02:39:26.338151: I tensorflow/core/platform/cpu_feature_guard.cc:210] This TensorFlow binary is optimized to use available CPU instructions in performance-critical operations.\n",
      "To enable the following instructions: AVX2 FMA, in other operations, rebuild TensorFlow with the appropriate compiler flags.\n",
      "2024-07-22 02:39:27.165561: W tensorflow/compiler/tf2tensorrt/utils/py_utils.cc:38] TF-TRT Warning: Could not find TensorRT\n"
     ]
    }
   ],
   "source": [
    "from cuml.cluster import KMeans\n",
    "import numpy as np\n",
    "from sklearn.datasets import fetch_openml\n",
    "#from keras.datasets import mnist\n",
    "import matplotlib.pyplot as plt\n",
    "import tensorflow as tf\n",
    "import pandas as pd\n",
    "import cudf\n",
    "import pickle"
   ]
  },
  {
   "cell_type": "markdown",
   "metadata": {},
   "source": [
    "# IMPORT DATA"
   ]
  },
  {
   "cell_type": "code",
   "execution_count": 2,
   "metadata": {
    "metadata": {}
   },
   "outputs": [
    {
     "name": "stderr",
     "output_type": "stream",
     "text": [
      "2024-07-22 02:39:33.200140: W tensorflow/core/common_runtime/gpu/gpu_device.cc:2343] Cannot dlopen some GPU libraries. Please make sure the missing libraries mentioned above are installed properly if you would like to use GPU. Follow the guide at https://www.tensorflow.org/install/gpu for how to download and setup the required libraries for your platform.\n",
      "Skipping registering GPU devices...\n",
      "2024-07-22 02:39:34.519785: I tensorflow/core/framework/local_rendezvous.cc:404] Local rendezvous is aborting with status: OUT_OF_RANGE: End of sequence\n"
     ]
    },
    {
     "name": "stdout",
     "output_type": "stream",
     "text": [
      "(70000, 24, 24, 25)\n",
      "(40320000, 25)\n"
     ]
    }
   ],
   "source": [
    "mnist = fetch_openml('mnist_784', version=1)\n",
    "X = mnist.data.astype(np.float32)\n",
    "y = mnist.target.astype(int)\n",
    "\n",
    "X_reshape = X.values.reshape(-1, 28, 28)\n",
    "X_reshape = np.expand_dims(X_reshape, -1)\n",
    "\n",
    "def extract_patches(images, patch_size):\n",
    "    patches = tf.image.extract_patches(images=images,\n",
    "                                        sizes=[1, patch_size, patch_size, 1],\n",
    "                                        strides=[1,1,1,1],\n",
    "                                        rates=[1,1,1,1],\n",
    "                                        padding='VALID')\n",
    "    return patches\n",
    "def extract_patches_batch(images, batch_size=256, patch_size=5):\n",
    "    dataset = tf.data.Dataset.from_tensor_slices(images)\n",
    "    dataset = dataset.batch(batch_size)\n",
    "    patches_list = []\n",
    "    for batch in dataset:\n",
    "        patches = extract_patches(batch, patch_size)\n",
    "        patches_list.append(patches)\n",
    "    return tf.concat(patches_list, axis=0)\n",
    "\n",
    "X_patches = extract_patches_batch(X_reshape)\n",
    "\n",
    "print(X_patches.shape)\n",
    "def reshape_patches(patches):\n",
    "    num_patches = patches.shape[0] * patches.shape[1] * patches.shape[2]\n",
    "    patches = tf.reshape(patches, [num_patches, patches.shape[3]])\n",
    "    return patches\n",
    "\n",
    "flat_patches = reshape_patches(X_patches)\n",
    "print(flat_patches.shape)"
   ]
  },
  {
   "cell_type": "markdown",
   "metadata": {},
   "source": [
    "# GENERATE MODEL"
   ]
  },
  {
   "cell_type": "code",
   "execution_count": null,
   "metadata": {},
   "outputs": [],
   "source": [
    "X_cudf = cudf.DataFrame.from_records(flat_patches.numpy())"
   ]
  },
  {
   "cell_type": "code",
   "execution_count": null,
   "metadata": {},
   "outputs": [],
   "source": [
    "k = 2500\n",
    "\n",
    "kmeans = KMeans(n_clusters=k)\n",
    "kmeans.fit(X_cudf)\n",
    "\n",
    "labels = kmeans.labels_"
   ]
  },
  {
   "cell_type": "code",
   "execution_count": null,
   "metadata": {},
   "outputs": [],
   "source": [
    "# SAVE MODEL\n",
    "with open(f'kmeans_mnist_k{k}.pkl', 'wb') as f:\n",
    "    pickle.dump(kmeans, f)"
   ]
  },
  {
   "cell_type": "markdown",
   "metadata": {},
   "source": [
    "# ANALYZING MODEL"
   ]
  },
  {
   "cell_type": "code",
   "execution_count": null,
   "metadata": {
    "metadata": {}
   },
   "outputs": [],
   "source": [
    "# LOAD MODEL\n",
    "with open(\"kmeans_mnist_k1000.pkl\", \"rb\") as f:\n",
    "    model = pickle.load(f)"
   ]
  },
  {
   "cell_type": "code",
   "execution_count": null,
   "metadata": {
    "metadata": {}
   },
   "outputs": [],
   "source": [
    "label_data = model.labels_.to_numpy()\n",
    "centroids = model.cluster_centers_.to_pandas().values\n",
    "\n",
    "print(type(label_data), len(label_data))"
   ]
  },
  {
   "cell_type": "code",
   "execution_count": null,
   "metadata": {
    "metadata": {}
   },
   "outputs": [],
   "source": [
    "print('label:', y[(int) (5776419/576)])\n",
    "fig, axes = plt.subplots(1, 2, figsize=(10, 10))\n",
    "axes[0].imshow(flat_patches[5776419].numpy().reshape(5,5), cmap = 'gray', vmin=0, vmax=255)\n",
    "axes[1].imshow(X_numpy[(int) (5776419/576)].reshape(28,28), cmap = 'gray', vmin=0, vmax=255)\n",
    "plt.show()"
   ]
  },
  {
   "cell_type": "code",
   "execution_count": null,
   "metadata": {
    "metadata": {}
   },
   "outputs": [],
   "source": [
    "# Show all centroids\n",
    "n = 10\n",
    "fig, axes = plt.subplots(n, n, figsize=(18, 20))\n",
    "\n",
    "for row in range(n):\n",
    "    for col in range(n):\n",
    "        loc = row*10 + col\n",
    "        image = centroids[loc].reshape(5,5)\n",
    "        axes[row][col].imshow(image, cmap='gray', vmin=0, vmax=255)\n",
    "        axes[row][col].set_title(f'{loc}')\n",
    "        axes[row][col].axis('off')\n",
    "plt.show()"
   ]
  },
  {
   "cell_type": "markdown",
   "metadata": {},
   "source": [
    "# ISOLATING CLUSTERS"
   ]
  },
  {
   "cell_type": "code",
   "execution_count": null,
   "metadata": {
    "metadata": {}
   },
   "outputs": [],
   "source": [
    "def isolate_cluster(label, labels, data):\n",
    "    cluster_data = []\n",
    "    for i in range(len(labels)):\n",
    "        if labels[i] == label:\n",
    "            cluster_data.append((data[i], i))\n",
    "    return cluster_data"
   ]
  },
  {
   "cell_type": "code",
   "execution_count": null,
   "metadata": {
    "metadata": {}
   },
   "outputs": [],
   "source": [
    "cluster_data = isolate_cluster(2, label_data, flat_patches)"
   ]
  },
  {
   "cell_type": "code",
   "execution_count": null,
   "metadata": {
    "metadata": {}
   },
   "outputs": [],
   "source": [
    "import random as rand\n",
    "\n",
    "X_numpy = X.values\n",
    "n = 5\n",
    "fig, axes = plt.subplots(n, n, figsize=(10, 10))\n",
    "\n",
    "for row in range(n):\n",
    "    for col in range(n):\n",
    "        pick = rand.choice(cluster_data)\n",
    "        image = pick[0].numpy().reshape(5,5)\n",
    "        axes[row][col].imshow(image, cmap='gray', vmin=0, vmax=255)\n",
    "        axes[row][col].set_title(f'{pick[1]}')\n",
    "        axes[row][col].axis('off')\n",
    "plt.show()"
   ]
  },
  {
   "cell_type": "markdown",
   "metadata": {},
   "source": [
    "# RECONSTRUCTING NUMBER FROM CENTROIDS"
   ]
  },
  {
   "cell_type": "code",
   "execution_count": null,
   "metadata": {
    "metadata": {}
   },
   "outputs": [],
   "source": [
    "#choose an image:\n",
    "image_index = 3\n",
    "print('label:', y[image_index])\n",
    "fig, axes = plt.subplots(1, 2, figsize=(10, 10))\n",
    "axes[0].imshow(flat_patches[image_index*576 + 60 + 24*3].numpy().reshape(5,5), cmap = 'gray', vmin=0, vmax=255)\n",
    "axes[1].imshow(X_numpy[image_index].reshape(28,28), cmap = 'gray')\n",
    "axes[0].axis(\"off\")\n",
    "axes[1].axis(\"off\")\n",
    "\n",
    "plt.show()"
   ]
  },
  {
   "cell_type": "code",
   "execution_count": null,
   "metadata": {
    "metadata": {}
   },
   "outputs": [],
   "source": [
    "answer = model.predict(flat_patches[image_index*576:(image_index+1) * 576].numpy())\n",
    "plt.hist(answer, 100)\n",
    "plt.ylim(0, 20)\n",
    "plt.show()"
   ]
  },
  {
   "cell_type": "code",
   "execution_count": null,
   "metadata": {},
   "outputs": [],
   "source": [
    "centroid_cnt = np.bincount(answer)\n",
    "sorted_indices = np.argsort(centroid_cnt)[::-1]\n",
    "print(sorted_indices)"
   ]
  },
  {
   "cell_type": "code",
   "execution_count": null,
   "metadata": {
    "metadata": {}
   },
   "outputs": [],
   "source": [
    "fig, axes = plt.subplots(24, 24, figsize=(20, 25))\n",
    "for row in range(0, 24):\n",
    "    for col in range(0, 24):\n",
    "        loc = answer[row*24 + col]\n",
    "        axes[row][col].imshow(centroids[loc].reshape(5,5), cmap = 'gray', vmin=0, vmax=255)\n",
    "        axes[row][col].set_title(f'{loc}')\n",
    "        axes[row][col].axis('off')\n",
    "plt.show()"
   ]
  },
  {
   "cell_type": "markdown",
   "metadata": {},
   "source": [
    "# WHAT ARE THE SIZES OF THE CLUSTERS?"
   ]
  },
  {
   "cell_type": "code",
   "execution_count": null,
   "metadata": {},
   "outputs": [],
   "source": [
    "# Show all centroids in order from most classifications to least\n",
    "counts = np.bincount(label_data)\n",
    "sorted_indices = np.argsort(counts)[::-1]\n",
    "\n",
    "n = 10\n",
    "fig, axes = plt.subplots(n, n, figsize=(18, 20))\n",
    "\n",
    "for row in range(n):\n",
    "    for col in range(n):\n",
    "        loc = sorted_indices[999 - (row*10 + col)]\n",
    "        image = centroids[loc].reshape(5,5)\n",
    "        axes[row][col].imshow(image, cmap='gray', vmin=0, vmax=255)\n",
    "        axes[row][col].set_title(f'{loc}')\n",
    "        axes[row][col].axis('off')\n",
    "plt.show()"
   ]
  },
  {
   "cell_type": "markdown",
   "metadata": {},
   "source": [
    "# CALCULATE THE STANDARD DEVIATION OF THE MODEL, OR TRY TO SEE THE LOSS"
   ]
  },
  {
   "cell_type": "code",
   "execution_count": 3,
   "metadata": {},
   "outputs": [],
   "source": [
    "with open(\"kmeans_mnist_k100.pkl\", \"rb\") as f:\n",
    "    k100 = pickle.load(f)\n",
    "with open(\"kmeans_mnist_k500.pkl\", \"rb\") as f:\n",
    "    k500 = pickle.load(f)\n",
    "with open(\"kmeans_mnist_k1000.pkl\", \"rb\") as f:\n",
    "    k1000 = pickle.load(f)\n",
    "with open(\"kmeans_mnist_k1500.pkl\", \"rb\") as f:\n",
    "    k1500 = pickle.load(f)\n",
    "with open(\"kmeans_mnist_k2000.pkl\", \"rb\") as f:\n",
    "    k2000 = pickle.load(f)\n",
    "with open(\"kmeans_mnist_k2500.pkl\", \"rb\") as f:\n",
    "    k2500 = pickle.load(f)\n",
    "with open(\"kmeans_mnist_k3000.pkl\", \"rb\") as f:\n",
    "    k3000 = pickle.load(f)\n",
    "label_k100 = k100.labels_.to_numpy()\n",
    "centroids_k100 = k100.cluster_centers_.to_pandas().values\n",
    "label_k500 = k500.labels_.to_numpy()\n",
    "centroids_k500 = k500.cluster_centers_.to_pandas().values\n",
    "label_k1000 = k1000.labels_.to_numpy()\n",
    "centroids_k1000 = k1000.cluster_centers_.to_pandas().values\n",
    "label_k1500 = k1500.labels_.to_numpy()\n",
    "centroids_k1500 = k1500.cluster_centers_.to_pandas().values\n",
    "label_k2000 = k2000.labels_.to_numpy()\n",
    "centroids_k2000 = k2000.cluster_centers_.to_pandas().values\n",
    "label_k2500 = k2500.labels_.to_numpy()\n",
    "centroids_k2500 = k2500.cluster_centers_.to_pandas().values\n",
    "label_k3000 = k3000.labels_.to_numpy()\n",
    "centroids_k3000 = k3000.cluster_centers_.to_pandas().values"
   ]
  },
  {
   "cell_type": "code",
   "execution_count": 4,
   "metadata": {},
   "outputs": [],
   "source": [
    "import numpy as np\n",
    "\n",
    "def standard_deviation(labels, centroids):\n",
    "    diffs = centroids[labels] - flat_patches\n",
    "    norms = np.linalg.norm(diffs, axis=1)\n",
    "    nstd = np.zeros(len(centroids))\n",
    "    np.add.at(nstd, labels, norms)\n",
    "    counts = np.bincount(labels)\n",
    "    counts = np.maximum(counts, 1)\n",
    "    std = nstd / counts\n",
    "    return std\n",
    "\n",
    "# Use the function\n",
    "stdk100arr = standard_deviation(label_k100, centroids_k100)\n",
    "stdk500arr = standard_deviation(label_k500, centroids_k500)\n",
    "stdk1000arr = standard_deviation(label_k1000, centroids_k1000)\n",
    "stdk1500arr = standard_deviation(label_k1500, centroids_k1500)\n",
    "stdk2000arr = standard_deviation(label_k2000, centroids_k2000)\n",
    "stdk2500arr = standard_deviation(label_k2500, centroids_k2500)\n",
    "stdk3000arr = standard_deviation(label_k3000, centroids_k3000)\n"
   ]
  },
  {
   "cell_type": "code",
   "execution_count": 5,
   "metadata": {},
   "outputs": [
    {
     "data": {
      "image/png": "[encoded data removed]",
      "text/plain": [
       "<Figure size 640x480 with 1 Axes>"
      ]
     },
     "metadata": {},
     "output_type": "display_data"
    }
   ],
   "source": [
    "holdthis = [np.mean(stdk100arr), np.mean(stdk500arr), np.mean(stdk1000arr), np.mean(stdk1500arr), np.mean(stdk2000arr), np.mean(stdk2500arr), np.mean(stdk3000arr)]\n",
    "plt.plot(holdthis)\n",
    "plt.show()"
   ]
  },
  {
   "cell_type": "code",
   "execution_count": null,
   "metadata": {},
   "outputs": [],
   "source": []
  }
 ],
 "metadata": {
  "kernelspec": {
   "display_name": "aisummer",
   "language": "python",
   "name": "python3"
  },
  "language_info": {
   "codemirror_mode": {
    "name": "ipython",
    "version": 3
   },
   "file_extension": ".py",
   "mimetype": "text/x-python",
   "name": "python",
   "nbconvert_exporter": "python",
   "pygments_lexer": "ipython3",
   "version": "3.11.9"
  }
 },
 "nbformat": 4,
 "nbformat_minor": 2
}
